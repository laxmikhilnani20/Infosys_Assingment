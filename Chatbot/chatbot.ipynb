{
 "cells": [
  {
   "cell_type": "code",
   "execution_count": 1,
   "metadata": {},
   "outputs": [],
   "source": [
    "import requests\n",
    "import json\n",
    "\n"
   ]
  },
  {
   "cell_type": "code",
   "execution_count": 2,
   "metadata": {},
   "outputs": [],
   "source": [
    "API_KEY = \"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\" \n",
    "URL = \"https://api.groq.com/openai/v1/chat/completions\"  \n",
    "\n"
   ]
  },
  {
   "cell_type": "code",
   "execution_count": 3,
   "metadata": {},
   "outputs": [],
   "source": [
    "messages = [\n",
    "    {\n",
    "        \"role\": \"system\",\n",
    "        \"content\": \"You are Event Buddy, an expert event planning bot. You provide creative themes, fun activities, quick decor ideas, and last-minute hacks for events like birthdays, team meetings, and casual hangouts.\"\n",
    "    }\n",
    "]\n",
    "\n"
   ]
  },
  {
   "cell_type": "code",
   "execution_count": null,
   "metadata": {},
   "outputs": [],
   "source": [
    "while True:\n",
    "    # User input\n",
    "    prompt = input(\"Event Buddy (type 'exit' to quit): \")\n",
    "\n",
    "    if prompt.lower() == \"exit\":\n",
    "        print(\"Goodbye! Hope your event is amazing! 🎉\")\n",
    "        break\n",
    "\n",
    "    # Append user query\n",
    "    messages.append({\n",
    "        \"role\": \"user\",\n",
    "        \"content\": prompt\n",
    "    })\n",
    "\n",
    "    # Prepare API payload\n",
    "    data = {\n",
    "        \"messages\": messages,\n",
    "        \"model\": \"llama-3.3-70b-versatile\",  # Replace with your model\n",
    "        \"temperature\": 0.8  # Balanced creativity\n",
    "    }\n",
    "\n",
    "    # API request\n",
    "    headers = {\n",
    "        \"Content-Type\": \"application/json\",\n",
    "        \"Authorization\": f\"Bearer {API_KEY}\"\n",
    "    }\n",
    "\n",
    "    response = requests.post(URL, data=json.dumps(data), headers=headers)\n",
    "    response = response.json()\n",
    "\n",
    "    # Extract and print assistant reply\n",
    "    assistant_reply = response[\"choices\"][0][\"message\"][\"content\"]\n",
    "    messages.append({\n",
    "        \"role\": \"assistant\",\n",
    "        \"content\": assistant_reply\n",
    "    })\n",
    "    \n",
    "    print(f\"\\nEvent Buddy: {assistant_reply}\\n\")\n"
   ]
  }
 ],
 "metadata": {
  "kernelspec": {
   "display_name": "Python 3",
   "language": "python",
   "name": "python3"
  },
  "language_info": {
   "codemirror_mode": {
    "name": "ipython",
    "version": 3
   },
   "file_extension": ".py",
   "mimetype": "text/x-python",
   "name": "python",
   "nbconvert_exporter": "python",
   "pygments_lexer": "ipython3",
   "version": "3.13.1"
  }
 },
 "nbformat": 4,
 "nbformat_minor": 2
}
